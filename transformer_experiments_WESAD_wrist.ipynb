{
  "cells": [
    {
      "cell_type": "markdown",
      "metadata": {
        "id": "view-in-github",
        "colab_type": "text"
      },
      "source": [
        "<a href=\"https://colab.research.google.com/github/lujosylvia/Stress-Detection-Transformer/blob/main/transformer_experiments_WESAD_wrist.ipynb\" target=\"_parent\"><img src=\"https://colab.research.google.com/assets/colab-badge.svg\" alt=\"Open In Colab\"/></a>"
      ]
    },
    {
      "cell_type": "markdown",
      "metadata": {
        "id": "xnU35fxTteSQ"
      },
      "source": [
        "# Research Project - Stress Detection\n",
        "\n",
        "The goal of this project is to determine which signal, or combinations of signals, are most performant in detecting stress levels when used with an encoder-only Transformer model. I want to also determine if signals from the wrist are comparable to those from the chest. The equipment recording signals from the chest should be more accurate, but it would be nice to verify that those in the wrist are as useful so that wrist devices, which are more easily accessible and easier to wear, can be proven as reliable enough."
      ]
    },
    {
      "cell_type": "code",
      "execution_count": null,
      "metadata": {
        "id": "vYzA-S2GteSR"
      },
      "outputs": [],
      "source": [
        "import itertools\n",
        "import pickle\n",
        "import pandas as pd\n",
        "import numpy as np\n",
        "import torch.utils.data\n",
        "from torch.utils.data import DataLoader, TensorDataset\n",
        "from sklearn.metrics import accuracy_score, f1_score\n",
        "\n",
        "# custom modules\n",
        "from dataset_builders import build_wrist_dataframe\n",
        "from transformer import TransformerStressPredictor, time_series_split_train_test_validation\n"
      ]
    },
    {
      "cell_type": "code",
      "source": [
        "if not torch.cuda.is_available():\n",
        "    print(\"CUDA is not available. Please check your GPU setup.\")\n",
        "    Device = torch.device(\"cpu\")\n",
        "else:\n",
        "    print(f\"Using GPU: {torch.cuda.get_device_name(0)}\")\n",
        "    Device = torch.device('cuda:0')\n",
        "\n",
        "Device"
      ],
      "metadata": {
        "colab": {
          "base_uri": "https://localhost:8080/"
        },
        "id": "Aybu0Lt_CUY_",
        "outputId": "f0ad8638-eec5-4248-a232-a80ac79355b8"
      },
      "execution_count": null,
      "outputs": [
        {
          "output_type": "stream",
          "name": "stdout",
          "text": [
            "Using GPU: NVIDIA A100-SXM4-40GB\n"
          ]
        },
        {
          "output_type": "execute_result",
          "data": {
            "text/plain": [
              "device(type='cuda', index=0)"
            ]
          },
          "metadata": {},
          "execution_count": 2
        }
      ]
    },
    {
      "cell_type": "markdown",
      "metadata": {
        "id": "FxA3pUCAteSS"
      },
      "source": [
        "### Read Data Files\n",
        "As part of the WESAD dataset, according to the README, for each subject, the correlating `.pkl` file includes all of the signals recorded in a synchronized manner and labelled. These files should be used when processing data."
      ]
    },
    {
      "cell_type": "markdown",
      "metadata": {
        "id": "b_r7LZihteSU"
      },
      "source": [
        "### Load Wrist Data"
      ]
    },
    {
      "cell_type": "code",
      "execution_count": null,
      "metadata": {
        "colab": {
          "base_uri": "https://localhost:8080/"
        },
        "id": "84OFoTHqteSU",
        "outputId": "2bd75e34-f6d1-44bc-b6c3-1c77c20915a4"
      },
      "outputs": [
        {
          "output_type": "execute_result",
          "data": {
            "text/plain": [
              "dict_keys(['S2', 'S3', 'S4', 'S5', 'S6', 'S7', 'S8', 'S9', 'S10', 'S11', 'S13', 'S14', 'S15', 'S16', 'S17'])"
            ]
          },
          "metadata": {},
          "execution_count": 3
        }
      ],
      "source": [
        "wrist_data = {}\n",
        "\n",
        "subjects = [2, 3, 4, 5, 6, 7, 8, 9, 10, 11, 13, 14, 15, 16, 17]\n",
        "for subject in subjects:\n",
        "  wrist_data[f\"S{subject}\"] = build_wrist_dataframe(f\"./WESAD/S{subject}/S{subject}.pkl\")\n",
        "\n",
        "wrist_data.keys()"
      ]
    },
    {
      "cell_type": "code",
      "execution_count": null,
      "metadata": {
        "id": "dqIvMszZteSU",
        "colab": {
          "base_uri": "https://localhost:8080/",
          "height": 206
        },
        "outputId": "a1bf5f92-0a5f-4830-e60e-b2c9a9bea6a4"
      },
      "outputs": [
        {
          "output_type": "execute_result",
          "data": {
            "text/plain": [
              "      ACC_1     ACC_2     ACC_3       BVP       EDA      TEMP  label\n",
              "0  0.315923  0.100602 -0.039766 -1.434623  0.290443  2.625071      1\n",
              "1  0.318006  0.105633 -0.038816 -1.427695  0.294175  2.624843      1\n",
              "2  0.320086  0.110656 -0.037867 -1.420781  0.297903  2.624616      1\n",
              "3  0.322162  0.115671 -0.036922 -1.413881  0.301627  2.624388      1\n",
              "4  0.324236  0.120678 -0.035979 -1.406994  0.305347  2.624161      1"
            ],
            "text/html": [
              "\n",
              "  <div id=\"df-9f6a5bb3-a8ce-4f3b-891a-43109a8a61cc\" class=\"colab-df-container\">\n",
              "    <div>\n",
              "<style scoped>\n",
              "    .dataframe tbody tr th:only-of-type {\n",
              "        vertical-align: middle;\n",
              "    }\n",
              "\n",
              "    .dataframe tbody tr th {\n",
              "        vertical-align: top;\n",
              "    }\n",
              "\n",
              "    .dataframe thead th {\n",
              "        text-align: right;\n",
              "    }\n",
              "</style>\n",
              "<table border=\"1\" class=\"dataframe\">\n",
              "  <thead>\n",
              "    <tr style=\"text-align: right;\">\n",
              "      <th></th>\n",
              "      <th>ACC_1</th>\n",
              "      <th>ACC_2</th>\n",
              "      <th>ACC_3</th>\n",
              "      <th>BVP</th>\n",
              "      <th>EDA</th>\n",
              "      <th>TEMP</th>\n",
              "      <th>label</th>\n",
              "    </tr>\n",
              "  </thead>\n",
              "  <tbody>\n",
              "    <tr>\n",
              "      <th>0</th>\n",
              "      <td>0.315923</td>\n",
              "      <td>0.100602</td>\n",
              "      <td>-0.039766</td>\n",
              "      <td>-1.434623</td>\n",
              "      <td>0.290443</td>\n",
              "      <td>2.625071</td>\n",
              "      <td>1</td>\n",
              "    </tr>\n",
              "    <tr>\n",
              "      <th>1</th>\n",
              "      <td>0.318006</td>\n",
              "      <td>0.105633</td>\n",
              "      <td>-0.038816</td>\n",
              "      <td>-1.427695</td>\n",
              "      <td>0.294175</td>\n",
              "      <td>2.624843</td>\n",
              "      <td>1</td>\n",
              "    </tr>\n",
              "    <tr>\n",
              "      <th>2</th>\n",
              "      <td>0.320086</td>\n",
              "      <td>0.110656</td>\n",
              "      <td>-0.037867</td>\n",
              "      <td>-1.420781</td>\n",
              "      <td>0.297903</td>\n",
              "      <td>2.624616</td>\n",
              "      <td>1</td>\n",
              "    </tr>\n",
              "    <tr>\n",
              "      <th>3</th>\n",
              "      <td>0.322162</td>\n",
              "      <td>0.115671</td>\n",
              "      <td>-0.036922</td>\n",
              "      <td>-1.413881</td>\n",
              "      <td>0.301627</td>\n",
              "      <td>2.624388</td>\n",
              "      <td>1</td>\n",
              "    </tr>\n",
              "    <tr>\n",
              "      <th>4</th>\n",
              "      <td>0.324236</td>\n",
              "      <td>0.120678</td>\n",
              "      <td>-0.035979</td>\n",
              "      <td>-1.406994</td>\n",
              "      <td>0.305347</td>\n",
              "      <td>2.624161</td>\n",
              "      <td>1</td>\n",
              "    </tr>\n",
              "  </tbody>\n",
              "</table>\n",
              "</div>\n",
              "    <div class=\"colab-df-buttons\">\n",
              "\n",
              "  <div class=\"colab-df-container\">\n",
              "    <button class=\"colab-df-convert\" onclick=\"convertToInteractive('df-9f6a5bb3-a8ce-4f3b-891a-43109a8a61cc')\"\n",
              "            title=\"Convert this dataframe to an interactive table.\"\n",
              "            style=\"display:none;\">\n",
              "\n",
              "  <svg xmlns=\"http://www.w3.org/2000/svg\" height=\"24px\" viewBox=\"0 -960 960 960\">\n",
              "    <path d=\"M120-120v-720h720v720H120Zm60-500h600v-160H180v160Zm220 220h160v-160H400v160Zm0 220h160v-160H400v160ZM180-400h160v-160H180v160Zm440 0h160v-160H620v160ZM180-180h160v-160H180v160Zm440 0h160v-160H620v160Z\"/>\n",
              "  </svg>\n",
              "    </button>\n",
              "\n",
              "  <style>\n",
              "    .colab-df-container {\n",
              "      display:flex;\n",
              "      gap: 12px;\n",
              "    }\n",
              "\n",
              "    .colab-df-convert {\n",
              "      background-color: #E8F0FE;\n",
              "      border: none;\n",
              "      border-radius: 50%;\n",
              "      cursor: pointer;\n",
              "      display: none;\n",
              "      fill: #1967D2;\n",
              "      height: 32px;\n",
              "      padding: 0 0 0 0;\n",
              "      width: 32px;\n",
              "    }\n",
              "\n",
              "    .colab-df-convert:hover {\n",
              "      background-color: #E2EBFA;\n",
              "      box-shadow: 0px 1px 2px rgba(60, 64, 67, 0.3), 0px 1px 3px 1px rgba(60, 64, 67, 0.15);\n",
              "      fill: #174EA6;\n",
              "    }\n",
              "\n",
              "    .colab-df-buttons div {\n",
              "      margin-bottom: 4px;\n",
              "    }\n",
              "\n",
              "    [theme=dark] .colab-df-convert {\n",
              "      background-color: #3B4455;\n",
              "      fill: #D2E3FC;\n",
              "    }\n",
              "\n",
              "    [theme=dark] .colab-df-convert:hover {\n",
              "      background-color: #434B5C;\n",
              "      box-shadow: 0px 1px 3px 1px rgba(0, 0, 0, 0.15);\n",
              "      filter: drop-shadow(0px 1px 2px rgba(0, 0, 0, 0.3));\n",
              "      fill: #FFFFFF;\n",
              "    }\n",
              "  </style>\n",
              "\n",
              "    <script>\n",
              "      const buttonEl =\n",
              "        document.querySelector('#df-9f6a5bb3-a8ce-4f3b-891a-43109a8a61cc button.colab-df-convert');\n",
              "      buttonEl.style.display =\n",
              "        google.colab.kernel.accessAllowed ? 'block' : 'none';\n",
              "\n",
              "      async function convertToInteractive(key) {\n",
              "        const element = document.querySelector('#df-9f6a5bb3-a8ce-4f3b-891a-43109a8a61cc');\n",
              "        const dataTable =\n",
              "          await google.colab.kernel.invokeFunction('convertToInteractive',\n",
              "                                                    [key], {});\n",
              "        if (!dataTable) return;\n",
              "\n",
              "        const docLinkHtml = 'Like what you see? Visit the ' +\n",
              "          '<a target=\"_blank\" href=https://colab.research.google.com/notebooks/data_table.ipynb>data table notebook</a>'\n",
              "          + ' to learn more about interactive tables.';\n",
              "        element.innerHTML = '';\n",
              "        dataTable['output_type'] = 'display_data';\n",
              "        await google.colab.output.renderOutput(dataTable, element);\n",
              "        const docLink = document.createElement('div');\n",
              "        docLink.innerHTML = docLinkHtml;\n",
              "        element.appendChild(docLink);\n",
              "      }\n",
              "    </script>\n",
              "  </div>\n",
              "\n",
              "\n",
              "<div id=\"df-d77310fa-42e9-4cfb-81b6-233afba45fd9\">\n",
              "  <button class=\"colab-df-quickchart\" onclick=\"quickchart('df-d77310fa-42e9-4cfb-81b6-233afba45fd9')\"\n",
              "            title=\"Suggest charts\"\n",
              "            style=\"display:none;\">\n",
              "\n",
              "<svg xmlns=\"http://www.w3.org/2000/svg\" height=\"24px\"viewBox=\"0 0 24 24\"\n",
              "     width=\"24px\">\n",
              "    <g>\n",
              "        <path d=\"M19 3H5c-1.1 0-2 .9-2 2v14c0 1.1.9 2 2 2h14c1.1 0 2-.9 2-2V5c0-1.1-.9-2-2-2zM9 17H7v-7h2v7zm4 0h-2V7h2v10zm4 0h-2v-4h2v4z\"/>\n",
              "    </g>\n",
              "</svg>\n",
              "  </button>\n",
              "\n",
              "<style>\n",
              "  .colab-df-quickchart {\n",
              "      --bg-color: #E8F0FE;\n",
              "      --fill-color: #1967D2;\n",
              "      --hover-bg-color: #E2EBFA;\n",
              "      --hover-fill-color: #174EA6;\n",
              "      --disabled-fill-color: #AAA;\n",
              "      --disabled-bg-color: #DDD;\n",
              "  }\n",
              "\n",
              "  [theme=dark] .colab-df-quickchart {\n",
              "      --bg-color: #3B4455;\n",
              "      --fill-color: #D2E3FC;\n",
              "      --hover-bg-color: #434B5C;\n",
              "      --hover-fill-color: #FFFFFF;\n",
              "      --disabled-bg-color: #3B4455;\n",
              "      --disabled-fill-color: #666;\n",
              "  }\n",
              "\n",
              "  .colab-df-quickchart {\n",
              "    background-color: var(--bg-color);\n",
              "    border: none;\n",
              "    border-radius: 50%;\n",
              "    cursor: pointer;\n",
              "    display: none;\n",
              "    fill: var(--fill-color);\n",
              "    height: 32px;\n",
              "    padding: 0;\n",
              "    width: 32px;\n",
              "  }\n",
              "\n",
              "  .colab-df-quickchart:hover {\n",
              "    background-color: var(--hover-bg-color);\n",
              "    box-shadow: 0 1px 2px rgba(60, 64, 67, 0.3), 0 1px 3px 1px rgba(60, 64, 67, 0.15);\n",
              "    fill: var(--button-hover-fill-color);\n",
              "  }\n",
              "\n",
              "  .colab-df-quickchart-complete:disabled,\n",
              "  .colab-df-quickchart-complete:disabled:hover {\n",
              "    background-color: var(--disabled-bg-color);\n",
              "    fill: var(--disabled-fill-color);\n",
              "    box-shadow: none;\n",
              "  }\n",
              "\n",
              "  .colab-df-spinner {\n",
              "    border: 2px solid var(--fill-color);\n",
              "    border-color: transparent;\n",
              "    border-bottom-color: var(--fill-color);\n",
              "    animation:\n",
              "      spin 1s steps(1) infinite;\n",
              "  }\n",
              "\n",
              "  @keyframes spin {\n",
              "    0% {\n",
              "      border-color: transparent;\n",
              "      border-bottom-color: var(--fill-color);\n",
              "      border-left-color: var(--fill-color);\n",
              "    }\n",
              "    20% {\n",
              "      border-color: transparent;\n",
              "      border-left-color: var(--fill-color);\n",
              "      border-top-color: var(--fill-color);\n",
              "    }\n",
              "    30% {\n",
              "      border-color: transparent;\n",
              "      border-left-color: var(--fill-color);\n",
              "      border-top-color: var(--fill-color);\n",
              "      border-right-color: var(--fill-color);\n",
              "    }\n",
              "    40% {\n",
              "      border-color: transparent;\n",
              "      border-right-color: var(--fill-color);\n",
              "      border-top-color: var(--fill-color);\n",
              "    }\n",
              "    60% {\n",
              "      border-color: transparent;\n",
              "      border-right-color: var(--fill-color);\n",
              "    }\n",
              "    80% {\n",
              "      border-color: transparent;\n",
              "      border-right-color: var(--fill-color);\n",
              "      border-bottom-color: var(--fill-color);\n",
              "    }\n",
              "    90% {\n",
              "      border-color: transparent;\n",
              "      border-bottom-color: var(--fill-color);\n",
              "    }\n",
              "  }\n",
              "</style>\n",
              "\n",
              "  <script>\n",
              "    async function quickchart(key) {\n",
              "      const quickchartButtonEl =\n",
              "        document.querySelector('#' + key + ' button');\n",
              "      quickchartButtonEl.disabled = true;  // To prevent multiple clicks.\n",
              "      quickchartButtonEl.classList.add('colab-df-spinner');\n",
              "      try {\n",
              "        const charts = await google.colab.kernel.invokeFunction(\n",
              "            'suggestCharts', [key], {});\n",
              "      } catch (error) {\n",
              "        console.error('Error during call to suggestCharts:', error);\n",
              "      }\n",
              "      quickchartButtonEl.classList.remove('colab-df-spinner');\n",
              "      quickchartButtonEl.classList.add('colab-df-quickchart-complete');\n",
              "    }\n",
              "    (() => {\n",
              "      let quickchartButtonEl =\n",
              "        document.querySelector('#df-d77310fa-42e9-4cfb-81b6-233afba45fd9 button');\n",
              "      quickchartButtonEl.style.display =\n",
              "        google.colab.kernel.accessAllowed ? 'block' : 'none';\n",
              "    })();\n",
              "  </script>\n",
              "</div>\n",
              "\n",
              "    </div>\n",
              "  </div>\n"
            ],
            "application/vnd.google.colaboratory.intrinsic+json": {
              "type": "dataframe",
              "summary": "{\n  \"name\": \"wrist_data['S3']\",\n  \"rows\": 5,\n  \"fields\": [\n    {\n      \"column\": \"ACC_1\",\n      \"properties\": {\n        \"dtype\": \"number\",\n        \"std\": 0.003285929508323188,\n        \"min\": 0.3159227890848617,\n        \"max\": 0.32423560362952264,\n        \"num_unique_values\": 5,\n        \"samples\": [\n          0.3180057437722069,\n          0.32423560362952264,\n          0.32008552985736244\n        ],\n        \"semantic_type\": \"\",\n        \"description\": \"\"\n      }\n    },\n    {\n      \"column\": \"ACC_2\",\n      \"properties\": {\n        \"dtype\": \"number\",\n        \"std\": 0.007935974651947125,\n        \"min\": 0.10060161034090011,\n        \"max\": 0.12067820782012785,\n        \"num_unique_values\": 5,\n        \"samples\": [\n          0.10563264775567163,\n          0.12067820782012785,\n          0.11065575655236379\n        ],\n        \"semantic_type\": \"\",\n        \"description\": \"\"\n      }\n    },\n    {\n      \"column\": \"ACC_3\",\n      \"properties\": {\n        \"dtype\": \"number\",\n        \"std\": 0.0014970252354500734,\n        \"min\": -0.03976611376567683,\n        \"max\": -0.03597891017173568,\n        \"num_unique_values\": 5,\n        \"samples\": [\n          -0.0388155475172984,\n          -0.03597891017173568,\n          -0.03786749264141142\n        ],\n        \"semantic_type\": \"\",\n        \"description\": \"\"\n      }\n    },\n    {\n      \"column\": \"BVP\",\n      \"properties\": {\n        \"dtype\": \"number\",\n        \"std\": 0.01092136521347731,\n        \"min\": -1.4346230897863192,\n        \"max\": -1.4069939934941846,\n        \"num_unique_values\": 5,\n        \"samples\": [\n          -1.427695058103187,\n          -1.4069939934941846,\n          -1.4207808719981372\n        ],\n        \"semantic_type\": \"\",\n        \"description\": \"\"\n      }\n    },\n    {\n      \"column\": \"EDA\",\n      \"properties\": {\n        \"dtype\": \"number\",\n        \"std\": 0.005891429333433893,\n        \"min\": 0.2904425252114651,\n        \"max\": 0.3053467912742923,\n        \"num_unique_values\": 5,\n        \"samples\": [\n          0.29417476884235494,\n          0.3053467912742923,\n          0.29790289280734655\n        ],\n        \"semantic_type\": \"\",\n        \"description\": \"\"\n      }\n    },\n    {\n      \"column\": \"TEMP\",\n      \"properties\": {\n        \"dtype\": \"number\",\n        \"std\": 0.0003596916199761268,\n        \"min\": 2.62416123179197,\n        \"max\": 2.625071187484511,\n        \"num_unique_values\": 5,\n        \"samples\": [\n          2.624843322512491,\n          2.62416123179197,\n          2.62461570835028\n        ],\n        \"semantic_type\": \"\",\n        \"description\": \"\"\n      }\n    },\n    {\n      \"column\": \"label\",\n      \"properties\": {\n        \"dtype\": \"number\",\n        \"std\": 0,\n        \"min\": 1,\n        \"max\": 1,\n        \"num_unique_values\": 1,\n        \"samples\": [\n          1\n        ],\n        \"semantic_type\": \"\",\n        \"description\": \"\"\n      }\n    }\n  ]\n}"
            }
          },
          "metadata": {},
          "execution_count": 4
        }
      ],
      "source": [
        "wrist_data['S3'].head()"
      ]
    },
    {
      "cell_type": "markdown",
      "metadata": {
        "id": "ob8-pg-gteSc"
      },
      "source": [
        "## How does model perform using EDA alone?"
      ]
    },
    {
      "cell_type": "code",
      "execution_count": null,
      "metadata": {
        "id": "7wP5GOUCRfwQ",
        "colab": {
          "base_uri": "https://localhost:8080/"
        },
        "outputId": "b2c513c1-5568-40bf-f11e-ab3e5efe70d0"
      },
      "outputs": [
        {
          "output_type": "stream",
          "name": "stderr",
          "text": [
            " 50/ 50 | Loss: 1.437"
          ]
        },
        {
          "output_type": "stream",
          "name": "stdout",
          "text": [
            "Acc= 0.97\n",
            "F1= 0.98\n",
            "Loss= 1.78\n"
          ]
        },
        {
          "output_type": "stream",
          "name": "stderr",
          "text": [
            " 50/ 50 | Loss: 0.919"
          ]
        },
        {
          "output_type": "stream",
          "name": "stdout",
          "text": [
            "Acc= 0.87\n",
            "F1= 0.87\n",
            "Loss= 1.08\n"
          ]
        },
        {
          "output_type": "stream",
          "name": "stderr",
          "text": [
            " 50/ 50 | Loss: 0.941"
          ]
        },
        {
          "output_type": "stream",
          "name": "stdout",
          "text": [
            "Acc= 0.96\n",
            "F1= 0.98\n",
            "Loss= 1.43\n"
          ]
        },
        {
          "output_type": "stream",
          "name": "stderr",
          "text": [
            " 50/ 50 | Loss: 2.080"
          ]
        },
        {
          "output_type": "stream",
          "name": "stdout",
          "text": [
            "Acc= 0.93\n",
            "F1= 0.95\n",
            "Loss= 2.26\n"
          ]
        },
        {
          "output_type": "stream",
          "name": "stderr",
          "text": [
            " 50/ 50 | Loss: 1.198"
          ]
        },
        {
          "output_type": "stream",
          "name": "stdout",
          "text": [
            "Acc= 0.68\n",
            "F1= 0.55\n",
            "Loss= 1.32\n",
            "CPU times: user 17min 42s, sys: 36.1 s, total: 18min 18s\n",
            "Wall time: 7min 6s\n"
          ]
        },
        {
          "output_type": "execute_result",
          "data": {
            "text/plain": [
              "(0.8809815719140202,\n",
              " 0.8674473105865325,\n",
              " 1.5728448768658128,\n",
              " [1.9402508651837707,\n",
              "  1.6655161926755682,\n",
              "  1.7166017882409506,\n",
              "  1.5157732848310843,\n",
              "  1.7323278214898892,\n",
              "  1.6071788032422774,\n",
              "  1.5415655666729435,\n",
              "  1.444934752304107,\n",
              "  1.3959485699888319,\n",
              "  1.3949774890206754,\n",
              "  1.3315560332266614,\n",
              "  1.371993872220628,\n",
              "  1.288641770137474,\n",
              "  1.2610849429038353,\n",
              "  1.2297420469112694,\n",
              "  1.2095934944227338,\n",
              "  1.190096546546556,\n",
              "  1.1695977232884616,\n",
              "  1.1505293474765494,\n",
              "  1.1659537492669187,\n",
              "  1.2069457694888115,\n",
              "  2.224781653145328,\n",
              "  1.3258933972683735,\n",
              "  1.2858906359761022,\n",
              "  1.2802408544812351,\n",
              "  1.2412061074282974,\n",
              "  1.2394229304627515,\n",
              "  1.2324520072434098,\n",
              "  1.2245503721060231,\n",
              "  1.223715468251612,\n",
              "  1.2156713308067992,\n",
              "  1.210869827948045,\n",
              "  1.2099021488102153,\n",
              "  1.206436089181807,\n",
              "  1.1996244842885062,\n",
              "  1.2029180327663198,\n",
              "  1.200980915920809,\n",
              "  1.201425054227002,\n",
              "  1.20088775025215,\n",
              "  1.1976433151285164,\n",
              "  1.199162233446259,\n",
              "  1.1993336547748186,\n",
              "  1.1996236535487697,\n",
              "  1.197123984748032,\n",
              "  1.1983677819371223,\n",
              "  1.1973500732565299,\n",
              "  1.2019786444725469,\n",
              "  1.1965864798985422,\n",
              "  1.1968488314887509,\n",
              "  1.1981526128365658])"
            ]
          },
          "metadata": {},
          "execution_count": 31
        }
      ],
      "source": [
        "%%time\n",
        "clf = TransformerStressPredictor(input_dims=1, model_dim=32, nhead=4, n_encoder_layers=2, batch_size=4096).to(Device)\n",
        "time_series_split_train_test_validation(clf, wrist_data, ['EDA'], epochs=50, _batch_size=4096)"
      ]
    },
    {
      "cell_type": "markdown",
      "metadata": {
        "id": "i_34h72XteSc"
      },
      "source": [
        "## How does model perform using ACC alone?"
      ]
    },
    {
      "cell_type": "code",
      "execution_count": null,
      "metadata": {
        "id": "3YQO46w72_wh",
        "colab": {
          "base_uri": "https://localhost:8080/"
        },
        "outputId": "baba9e7f-eaa4-4442-cf2b-1e559c4dc2f8"
      },
      "outputs": [
        {
          "output_type": "stream",
          "name": "stderr",
          "text": [
            " 50/ 50 | Loss: 2.251"
          ]
        },
        {
          "output_type": "stream",
          "name": "stdout",
          "text": [
            "Acc= 0.97\n",
            "F1= 0.97\n",
            "Loss= 2.91\n"
          ]
        },
        {
          "output_type": "stream",
          "name": "stderr",
          "text": [
            " 50/ 50 | Loss: 0.699"
          ]
        },
        {
          "output_type": "stream",
          "name": "stdout",
          "text": [
            "Acc= 0.78\n",
            "F1= 0.72\n",
            "Loss= 1.14\n"
          ]
        },
        {
          "output_type": "stream",
          "name": "stderr",
          "text": [
            " 50/ 50 | Loss: 1.631"
          ]
        },
        {
          "output_type": "stream",
          "name": "stdout",
          "text": [
            "Acc= 0.58\n",
            "F1= 0.51\n",
            "Loss= 2.26\n"
          ]
        },
        {
          "output_type": "stream",
          "name": "stderr",
          "text": [
            " 50/ 50 | Loss: 0.953"
          ]
        },
        {
          "output_type": "stream",
          "name": "stdout",
          "text": [
            "Acc= 0.60\n",
            "F1= 0.55\n",
            "Loss= 1.42\n"
          ]
        },
        {
          "output_type": "stream",
          "name": "stderr",
          "text": [
            " 50/ 50 | Loss: 1.142"
          ]
        },
        {
          "output_type": "stream",
          "name": "stdout",
          "text": [
            "Acc= 0.86\n",
            "F1= 0.90\n",
            "Loss= 2.01\n",
            "CPU times: user 21min 7s, sys: 39.8 s, total: 21min 46s\n",
            "Wall time: 10min 10s\n"
          ]
        },
        {
          "output_type": "execute_result",
          "data": {
            "text/plain": [
              "(0.75905888378172,\n",
              " 0.7308619372860232,\n",
              " 1.9485062935223176,\n",
              " [6.725033282811637,\n",
              "  4.758478751522489,\n",
              "  3.125148069113493,\n",
              "  2.824267670046538,\n",
              "  2.6811252585612237,\n",
              "  2.745018631219864,\n",
              "  2.5840224837884307,\n",
              "  2.5215022643096745,\n",
              "  2.5236179237253964,\n",
              "  2.566044035134837,\n",
              "  2.6639943458139896,\n",
              "  2.282333450508304,\n",
              "  2.24439960392192,\n",
              "  2.253519739722833,\n",
              "  2.2044525537639856,\n",
              "  2.192737893667072,\n",
              "  2.1835777438245714,\n",
              "  2.1326085191685706,\n",
              "  2.153355361078866,\n",
              "  2.029196161078289,\n",
              "  2.101192946312949,\n",
              "  2.041181433480233,\n",
              "  2.135717835801188,\n",
              "  1.7851587374461815,\n",
              "  1.777861897367984,\n",
              "  1.624427038099384,\n",
              "  1.7016500235768035,\n",
              "  1.6413803123286925,\n",
              "  1.6132099639507942,\n",
              "  1.577750660770107,\n",
              "  1.71573089712183,\n",
              "  1.5716975851682946,\n",
              "  1.5413415353395976,\n",
              "  1.5169462281046435,\n",
              "  1.4212144324555993,\n",
              "  1.4635650004493073,\n",
              "  1.2600049437314738,\n",
              "  1.5018453025841154,\n",
              "  1.5874825585342478,\n",
              "  1.4551690685620997,\n",
              "  1.2893872811400797,\n",
              "  1.2560784504166804,\n",
              "  1.23122480296297,\n",
              "  1.1400939634768292,\n",
              "  1.0897062656003982,\n",
              "  1.1457491235341877,\n",
              "  1.1644991927896626,\n",
              "  1.210418056944036,\n",
              "  1.2290499712107703,\n",
              "  1.1422250951873139])"
            ]
          },
          "metadata": {},
          "execution_count": 15
        }
      ],
      "source": [
        "%%time\n",
        "clf = TransformerStressPredictor(input_dims=3, model_dim=32, nhead=4, n_encoder_layers=2, batch_size=4096).to(Device)\n",
        "time_series_split_train_test_validation(clf, wrist_data, ['ACC_1', 'ACC_2', 'ACC_3'], epochs=50, _batch_size=4096)"
      ]
    },
    {
      "cell_type": "markdown",
      "source": [
        "## How does model perform using BVP alone?"
      ],
      "metadata": {
        "id": "z6yMdBOSABIw"
      }
    },
    {
      "cell_type": "code",
      "source": [
        "%%time\n",
        "clf = TransformerStressPredictor(input_dims=1, model_dim=32, nhead=4, n_encoder_layers=2, batch_size=4096).to(Device)\n",
        "time_series_split_train_test_validation(clf, wrist_data, ['BVP'], epochs=50, _batch_size=4096)"
      ],
      "metadata": {
        "colab": {
          "base_uri": "https://localhost:8080/"
        },
        "id": "Iyvw2d_2__tE",
        "outputId": "6a136d87-220f-49fe-dddb-ab8ebfc7ee3e"
      },
      "execution_count": null,
      "outputs": [
        {
          "output_type": "stream",
          "name": "stderr",
          "text": [
            " 50/ 50 | Loss: 3.428"
          ]
        },
        {
          "output_type": "stream",
          "name": "stdout",
          "text": [
            "Acc= 1.00\n",
            "F1= 1.00\n",
            "Loss= 3.77\n"
          ]
        },
        {
          "output_type": "stream",
          "name": "stderr",
          "text": [
            " 50/ 50 | Loss: 3.674"
          ]
        },
        {
          "output_type": "stream",
          "name": "stdout",
          "text": [
            "Acc= 1.00\n",
            "F1= 1.00\n",
            "Loss= 3.76\n"
          ]
        },
        {
          "output_type": "stream",
          "name": "stderr",
          "text": [
            " 50/ 50 | Loss: 3.112"
          ]
        },
        {
          "output_type": "stream",
          "name": "stdout",
          "text": [
            "Acc= 1.00\n",
            "F1= 1.00\n",
            "Loss= 3.19\n"
          ]
        },
        {
          "output_type": "stream",
          "name": "stderr",
          "text": [
            " 50/ 50 | Loss: 3.958"
          ]
        },
        {
          "output_type": "stream",
          "name": "stdout",
          "text": [
            "Acc= 1.00\n",
            "F1= 1.00\n",
            "Loss= 3.98\n"
          ]
        },
        {
          "output_type": "stream",
          "name": "stderr",
          "text": [
            " 50/ 50 | Loss: 3.259"
          ]
        },
        {
          "output_type": "stream",
          "name": "stdout",
          "text": [
            "Acc= 0.72\n",
            "F1= 0.60\n",
            "Loss= 3.29\n",
            "CPU times: user 17min 41s, sys: 38 s, total: 18min 19s\n",
            "Wall time: 7min 8s\n"
          ]
        },
        {
          "output_type": "execute_result",
          "data": {
            "text/plain": [
              "(0.9436693050986843,\n",
              " 0.9201200724693075,\n",
              " 3.5958625540731015,\n",
              " [3.3827688805758953,\n",
              "  3.373067483305931,\n",
              "  3.39060315489769,\n",
              "  3.3892535846680403,\n",
              "  3.379457078874111,\n",
              "  3.318564573302865,\n",
              "  3.316854452714324,\n",
              "  3.3169024735689163,\n",
              "  3.3163149747997522,\n",
              "  3.3150735646486282,\n",
              "  3.3149075135588646,\n",
              "  3.3142484817653894,\n",
              "  3.315686719492078,\n",
              "  3.315857984125614,\n",
              "  3.3148504309356213,\n",
              "  3.2870590705424547,\n",
              "  3.287499899044633,\n",
              "  3.2873369213193655,\n",
              "  3.286992961540818,\n",
              "  3.2723956387490034,\n",
              "  3.271601004526019,\n",
              "  3.2732886262238026,\n",
              "  3.2733001429587603,\n",
              "  3.2732022292912006,\n",
              "  3.266443185508251,\n",
              "  3.265443479642272,\n",
              "  3.2656452115625143,\n",
              "  3.265415655449033,\n",
              "  3.265685673803091,\n",
              "  3.262948302552104,\n",
              "  3.2618065010756254,\n",
              "  3.2620354536920786,\n",
              "  3.2621075697243214,\n",
              "  3.261742275208235,\n",
              "  3.260531898587942,\n",
              "  3.2607020251452923,\n",
              "  3.2610202580690384,\n",
              "  3.2604052163660526,\n",
              "  3.2597514539957047,\n",
              "  3.2595692053437233,\n",
              "  3.259674109518528,\n",
              "  3.2598170414566994,\n",
              "  3.258616417646408,\n",
              "  3.259134754538536,\n",
              "  3.259199945256114,\n",
              "  3.2596435211598873,\n",
              "  3.2591139767318964,\n",
              "  3.2585934698581696,\n",
              "  3.2588022463023663,\n",
              "  3.2585112527012825])"
            ]
          },
          "metadata": {},
          "execution_count": 7
        }
      ]
    },
    {
      "cell_type": "markdown",
      "metadata": {
        "id": "Z3yEhs5EteSd"
      },
      "source": [
        "## How does BVP, ACC channel X, and ACC channel Z perform?"
      ]
    },
    {
      "cell_type": "code",
      "source": [
        "%%time\n",
        "clf = TransformerStressPredictor(input_dims=3, model_dim=32, nhead=4, n_encoder_layers=2, batch_size=4096).to(Device)\n",
        "time_series_split_train_test_validation(clf, wrist_data, ['BVP', 'ACC_1', 'ACC_3'], epochs=50, _batch_size=4096)"
      ],
      "metadata": {
        "colab": {
          "base_uri": "https://localhost:8080/"
        },
        "id": "vxpgTHAMoHYh",
        "outputId": "cb02895d-56d0-4ea6-95fd-5d23b7c07172"
      },
      "execution_count": null,
      "outputs": [
        {
          "output_type": "stream",
          "name": "stderr",
          "text": [
            " 50/ 50 | Loss: 2.999"
          ]
        },
        {
          "output_type": "stream",
          "name": "stdout",
          "text": [
            "Acc= 0.91\n",
            "F1= 0.95\n",
            "Loss= 3.37\n"
          ]
        },
        {
          "output_type": "stream",
          "name": "stderr",
          "text": [
            " 50/ 50 | Loss: 3.015"
          ]
        },
        {
          "output_type": "stream",
          "name": "stdout",
          "text": [
            "Acc= 1.00\n",
            "F1= 1.00\n",
            "Loss= 3.12\n"
          ]
        },
        {
          "output_type": "stream",
          "name": "stderr",
          "text": [
            " 50/ 50 | Loss: 3.243"
          ]
        },
        {
          "output_type": "stream",
          "name": "stdout",
          "text": [
            "Acc= 1.00\n",
            "F1= 1.00\n",
            "Loss= 3.32\n"
          ]
        },
        {
          "output_type": "stream",
          "name": "stderr",
          "text": [
            " 50/ 50 | Loss: 3.607"
          ]
        },
        {
          "output_type": "stream",
          "name": "stdout",
          "text": [
            "Acc= 1.00\n",
            "F1= 1.00\n",
            "Loss= 3.78\n"
          ]
        },
        {
          "output_type": "stream",
          "name": "stderr",
          "text": [
            " 50/ 50 | Loss: 2.975"
          ]
        },
        {
          "output_type": "stream",
          "name": "stdout",
          "text": [
            "Acc= 0.80\n",
            "F1= 0.71\n",
            "Loss= 3.31\n",
            "CPU times: user 21min 8s, sys: 39.1 s, total: 21min 47s\n",
            "Wall time: 10min 25s\n"
          ]
        },
        {
          "output_type": "execute_result",
          "data": {
            "text/plain": [
              "(0.9429840856067649,\n",
              " 0.9336832089277711,\n",
              " 3.3779649561984697,\n",
              " [4.018825785256922,\n",
              "  3.855234581977129,\n",
              "  3.7849749010056257,\n",
              "  3.7336365524679422,\n",
              "  3.69149374589324,\n",
              "  3.683724472299218,\n",
              "  3.680583544075489,\n",
              "  3.5800601076334715,\n",
              "  3.638388277962804,\n",
              "  3.753575559705496,\n",
              "  3.5328672491014004,\n",
              "  3.372254876419902,\n",
              "  3.3724395353347063,\n",
              "  3.573417402803898,\n",
              "  3.6560173612087965,\n",
              "  3.3360922001302242,\n",
              "  3.3161418233066797,\n",
              "  3.218804556876421,\n",
              "  3.231938587501645,\n",
              "  3.251831825822592,\n",
              "  3.336828526109457,\n",
              "  3.3130438700318336,\n",
              "  3.2759191766381264,\n",
              "  3.218317160382867,\n",
              "  3.2143656257539988,\n",
              "  3.2108153868466616,\n",
              "  3.1950209867209196,\n",
              "  3.1531576924026012,\n",
              "  3.1469768173992634,\n",
              "  3.1749405656009912,\n",
              "  3.1395028438419104,\n",
              "  3.1324019841849804,\n",
              "  3.130184354260564,\n",
              "  3.1250248979777098,\n",
              "  3.1209239717572927,\n",
              "  3.115894950926304,\n",
              "  3.0978651847690344,\n",
              "  3.1946778297424316,\n",
              "  3.309277905151248,\n",
              "  3.1511290092021227,\n",
              "  3.211094679310918,\n",
              "  3.1194058377295732,\n",
              "  3.0230752862989902,\n",
              "  3.1120710354298353,\n",
              "  3.0359432995319366,\n",
              "  2.9877343643456697,\n",
              "  2.988967042416334,\n",
              "  3.0142278112471104,\n",
              "  2.9825248904526234,\n",
              "  2.9752332158386707])"
            ]
          },
          "metadata": {},
          "execution_count": 12
        }
      ]
    }
  ],
  "metadata": {
    "accelerator": "GPU",
    "colab": {
      "gpuType": "A100",
      "machine_shape": "hm",
      "provenance": [],
      "include_colab_link": true
    },
    "kernelspec": {
      "display_name": "Python 3",
      "name": "python3"
    },
    "language_info": {
      "codemirror_mode": {
        "name": "ipython",
        "version": 3
      },
      "file_extension": ".py",
      "mimetype": "text/x-python",
      "name": "python",
      "nbconvert_exporter": "python",
      "pygments_lexer": "ipython3",
      "version": "3.10.15"
    }
  },
  "nbformat": 4,
  "nbformat_minor": 0
}
